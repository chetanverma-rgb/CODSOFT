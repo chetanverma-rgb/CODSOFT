{
 "cells": [
  {
   "cell_type": "code",
   "execution_count": 1,
   "metadata": {
    "execution": {
     "iopub.execute_input": "2023-11-23T09:41:00.992281Z",
     "iopub.status.busy": "2023-11-23T09:41:00.99175Z",
     "iopub.status.idle": "2023-11-23T09:41:00.998943Z",
     "shell.execute_reply": "2023-11-23T09:41:00.996849Z",
     "shell.execute_reply.started": "2023-11-23T09:41:00.992236Z"
    },
    "id": "qQOgUBjPt7pw"
   },
   "outputs": [],
   "source": [
    "import os\n",
    "import re\n",
    "import nltk\n",
    "from nltk.corpus import stopwords\n",
    "from nltk.stem.porter import PorterStemmer\n",
    "import pandas as pd"
   ]
  },
  {
   "cell_type": "code",
   "execution_count": 2,
   "metadata": {},
   "outputs": [],
   "source": [
    "os.chdir(r\"C:\\Users\\cheta\\Downloads\\CodSoft\")"
   ]
  },
  {
   "cell_type": "code",
   "execution_count": 3,
   "metadata": {
    "execution": {
     "iopub.execute_input": "2023-11-23T09:41:01.002799Z",
     "iopub.status.busy": "2023-11-23T09:41:01.00226Z",
     "iopub.status.idle": "2023-11-23T09:41:01.027018Z",
     "shell.execute_reply": "2023-11-23T09:41:01.026053Z",
     "shell.execute_reply.started": "2023-11-23T09:41:01.002754Z"
    },
    "id": "_KhFw1ost_8Y"
   },
   "outputs": [],
   "source": [
    "message=pd.read_csv('spam.csv',encoding='ISO-8859-1')\n"
   ]
  },
  {
   "cell_type": "markdown",
   "metadata": {
    "id": "MFGaMWPw_3G9"
   },
   "source": [
    "# New Section"
   ]
  },
  {
   "cell_type": "code",
   "execution_count": 4,
   "metadata": {
    "execution": {
     "iopub.execute_input": "2023-11-23T09:41:01.029161Z",
     "iopub.status.busy": "2023-11-23T09:41:01.028817Z",
     "iopub.status.idle": "2023-11-23T09:41:01.049805Z",
     "shell.execute_reply": "2023-11-23T09:41:01.048801Z",
     "shell.execute_reply.started": "2023-11-23T09:41:01.02912Z"
    },
    "id": "V_mnv0xsuLFo"
   },
   "outputs": [],
   "source": [
    "message=message[['v1','v2']]"
   ]
  },
  {
   "cell_type": "code",
   "execution_count": 5,
   "metadata": {
    "execution": {
     "iopub.execute_input": "2023-11-23T09:41:01.052464Z",
     "iopub.status.busy": "2023-11-23T09:41:01.051147Z",
     "iopub.status.idle": "2023-11-23T09:41:01.072131Z",
     "shell.execute_reply": "2023-11-23T09:41:01.071248Z",
     "shell.execute_reply.started": "2023-11-23T09:41:01.052396Z"
    },
    "id": "CMlHpVTVuPLf",
    "outputId": "e572c881-98e6-4a19-c097-e13e8b3b3ef4"
   },
   "outputs": [
    {
     "data": {
      "text/html": [
       "<div>\n",
       "<style scoped>\n",
       "    .dataframe tbody tr th:only-of-type {\n",
       "        vertical-align: middle;\n",
       "    }\n",
       "\n",
       "    .dataframe tbody tr th {\n",
       "        vertical-align: top;\n",
       "    }\n",
       "\n",
       "    .dataframe thead th {\n",
       "        text-align: right;\n",
       "    }\n",
       "</style>\n",
       "<table border=\"1\" class=\"dataframe\">\n",
       "  <thead>\n",
       "    <tr style=\"text-align: right;\">\n",
       "      <th></th>\n",
       "      <th>v1</th>\n",
       "      <th>v2</th>\n",
       "    </tr>\n",
       "  </thead>\n",
       "  <tbody>\n",
       "    <tr>\n",
       "      <th>0</th>\n",
       "      <td>ham</td>\n",
       "      <td>Go until jurong point, crazy.. Available only ...</td>\n",
       "    </tr>\n",
       "    <tr>\n",
       "      <th>1</th>\n",
       "      <td>ham</td>\n",
       "      <td>Ok lar... Joking wif u oni...</td>\n",
       "    </tr>\n",
       "    <tr>\n",
       "      <th>2</th>\n",
       "      <td>spam</td>\n",
       "      <td>Free entry in 2 a wkly comp to win FA Cup fina...</td>\n",
       "    </tr>\n",
       "    <tr>\n",
       "      <th>3</th>\n",
       "      <td>ham</td>\n",
       "      <td>U dun say so early hor... U c already then say...</td>\n",
       "    </tr>\n",
       "    <tr>\n",
       "      <th>4</th>\n",
       "      <td>ham</td>\n",
       "      <td>Nah I don't think he goes to usf, he lives aro...</td>\n",
       "    </tr>\n",
       "  </tbody>\n",
       "</table>\n",
       "</div>"
      ],
      "text/plain": [
       "     v1                                                 v2\n",
       "0   ham  Go until jurong point, crazy.. Available only ...\n",
       "1   ham                      Ok lar... Joking wif u oni...\n",
       "2  spam  Free entry in 2 a wkly comp to win FA Cup fina...\n",
       "3   ham  U dun say so early hor... U c already then say...\n",
       "4   ham  Nah I don't think he goes to usf, he lives aro..."
      ]
     },
     "execution_count": 5,
     "metadata": {},
     "output_type": "execute_result"
    }
   ],
   "source": [
    "message.head()"
   ]
  },
  {
   "cell_type": "code",
   "execution_count": 6,
   "metadata": {
    "execution": {
     "iopub.execute_input": "2023-11-23T09:41:01.076501Z",
     "iopub.status.busy": "2023-11-23T09:41:01.075861Z",
     "iopub.status.idle": "2023-11-23T09:41:01.082995Z",
     "shell.execute_reply": "2023-11-23T09:41:01.081598Z",
     "shell.execute_reply.started": "2023-11-23T09:41:01.076463Z"
    },
    "id": "yNH29JxcuSqf"
   },
   "outputs": [],
   "source": [
    "message.columns=['label','message']"
   ]
  },
  {
   "cell_type": "code",
   "execution_count": 7,
   "metadata": {
    "execution": {
     "iopub.execute_input": "2023-11-23T09:41:01.084716Z",
     "iopub.status.busy": "2023-11-23T09:41:01.084389Z",
     "iopub.status.idle": "2023-11-23T09:41:01.100146Z",
     "shell.execute_reply": "2023-11-23T09:41:01.099364Z",
     "shell.execute_reply.started": "2023-11-23T09:41:01.084693Z"
    },
    "id": "55nGZo8uuV4x",
    "outputId": "89a7685e-3490-40da-83c8-1d3e03e68cc0"
   },
   "outputs": [
    {
     "data": {
      "text/html": [
       "<div>\n",
       "<style scoped>\n",
       "    .dataframe tbody tr th:only-of-type {\n",
       "        vertical-align: middle;\n",
       "    }\n",
       "\n",
       "    .dataframe tbody tr th {\n",
       "        vertical-align: top;\n",
       "    }\n",
       "\n",
       "    .dataframe thead th {\n",
       "        text-align: right;\n",
       "    }\n",
       "</style>\n",
       "<table border=\"1\" class=\"dataframe\">\n",
       "  <thead>\n",
       "    <tr style=\"text-align: right;\">\n",
       "      <th></th>\n",
       "      <th>label</th>\n",
       "      <th>message</th>\n",
       "    </tr>\n",
       "  </thead>\n",
       "  <tbody>\n",
       "    <tr>\n",
       "      <th>0</th>\n",
       "      <td>ham</td>\n",
       "      <td>Go until jurong point, crazy.. Available only ...</td>\n",
       "    </tr>\n",
       "    <tr>\n",
       "      <th>1</th>\n",
       "      <td>ham</td>\n",
       "      <td>Ok lar... Joking wif u oni...</td>\n",
       "    </tr>\n",
       "    <tr>\n",
       "      <th>2</th>\n",
       "      <td>spam</td>\n",
       "      <td>Free entry in 2 a wkly comp to win FA Cup fina...</td>\n",
       "    </tr>\n",
       "    <tr>\n",
       "      <th>3</th>\n",
       "      <td>ham</td>\n",
       "      <td>U dun say so early hor... U c already then say...</td>\n",
       "    </tr>\n",
       "    <tr>\n",
       "      <th>4</th>\n",
       "      <td>ham</td>\n",
       "      <td>Nah I don't think he goes to usf, he lives aro...</td>\n",
       "    </tr>\n",
       "  </tbody>\n",
       "</table>\n",
       "</div>"
      ],
      "text/plain": [
       "  label                                            message\n",
       "0   ham  Go until jurong point, crazy.. Available only ...\n",
       "1   ham                      Ok lar... Joking wif u oni...\n",
       "2  spam  Free entry in 2 a wkly comp to win FA Cup fina...\n",
       "3   ham  U dun say so early hor... U c already then say...\n",
       "4   ham  Nah I don't think he goes to usf, he lives aro..."
      ]
     },
     "execution_count": 7,
     "metadata": {},
     "output_type": "execute_result"
    }
   ],
   "source": [
    "message.head()"
   ]
  },
  {
   "cell_type": "code",
   "execution_count": 8,
   "metadata": {
    "execution": {
     "iopub.execute_input": "2023-11-23T09:41:01.101605Z",
     "iopub.status.busy": "2023-11-23T09:41:01.1011Z",
     "iopub.status.idle": "2023-11-23T09:41:01.200485Z",
     "shell.execute_reply": "2023-11-23T09:41:01.198663Z",
     "shell.execute_reply.started": "2023-11-23T09:41:01.101558Z"
    },
    "id": "4npiweSQuuIp",
    "outputId": "ddef6b78-cea9-4b16-8fad-dfaedff04c39"
   },
   "outputs": [
    {
     "name": "stderr",
     "output_type": "stream",
     "text": [
      "[nltk_data] Error loading stopwords: <urlopen error [WinError 10060] A\n",
      "[nltk_data]     connection attempt failed because the connected party\n",
      "[nltk_data]     did not properly respond after a period of time, or\n",
      "[nltk_data]     established connection failed because connected host\n",
      "[nltk_data]     has failed to respond>\n"
     ]
    },
    {
     "data": {
      "text/plain": [
       "False"
      ]
     },
     "execution_count": 8,
     "metadata": {},
     "output_type": "execute_result"
    }
   ],
   "source": [
    "nltk.download('stopwords')"
   ]
  },
  {
   "cell_type": "code",
   "execution_count": 9,
   "metadata": {
    "execution": {
     "iopub.execute_input": "2023-11-23T09:41:01.203105Z",
     "iopub.status.busy": "2023-11-23T09:41:01.202748Z",
     "iopub.status.idle": "2023-11-23T09:41:11.398341Z",
     "shell.execute_reply": "2023-11-23T09:41:11.396845Z",
     "shell.execute_reply.started": "2023-11-23T09:41:01.203065Z"
    },
    "id": "FUQzEvWTuY34"
   },
   "outputs": [],
   "source": [
    "ps = PorterStemmer()\n",
    "corpus = []\n",
    "for i in range(0, len(message)):\n",
    "    review = re.sub('[^a-zA-Z]', ' ', message['message'][i])\n",
    "    review = review.lower()\n",
    "    review = review.split()\n",
    "\n",
    "    review = [ps.stem(word) for word in review if not word in stopwords.words('english')]\n",
    "    review = ' '.join(review)\n",
    "    corpus.append(review)"
   ]
  },
  {
   "cell_type": "code",
   "execution_count": 10,
   "metadata": {
    "execution": {
     "iopub.execute_input": "2023-11-23T09:41:11.40091Z",
     "iopub.status.busy": "2023-11-23T09:41:11.400395Z",
     "iopub.status.idle": "2023-11-23T09:41:11.570557Z",
     "shell.execute_reply": "2023-11-23T09:41:11.569506Z",
     "shell.execute_reply.started": "2023-11-23T09:41:11.400848Z"
    },
    "id": "VPQ5IK5uu2xZ"
   },
   "outputs": [],
   "source": [
    "# Creating the Bag of Words model\n",
    "from sklearn.feature_extraction.text import CountVectorizer\n",
    "cv = CountVectorizer(max_features=4000)\n",
    "X = cv.fit_transform(corpus).toarray()\n",
    "\n",
    "y=pd.get_dummies(message['label'])\n",
    "y=y.iloc[:,1].values"
   ]
  },
  {
   "cell_type": "code",
   "execution_count": 11,
   "metadata": {
    "execution": {
     "iopub.execute_input": "2023-11-23T09:41:11.572168Z",
     "iopub.status.busy": "2023-11-23T09:41:11.57185Z",
     "iopub.status.idle": "2023-11-23T09:41:11.785716Z",
     "shell.execute_reply": "2023-11-23T09:41:11.784539Z",
     "shell.execute_reply.started": "2023-11-23T09:41:11.572141Z"
    },
    "id": "B7SokkP_vFmx",
    "outputId": "c4620097-24d9-4f02-cda6-94fbceaffc39"
   },
   "outputs": [
    {
     "data": {
      "text/plain": [
       "<Axes: >"
      ]
     },
     "execution_count": 11,
     "metadata": {},
     "output_type": "execute_result"
    },
    {
     "data": {
      "image/png": "[encoded data removed]",
      "text/plain": [
       "<Figure size 640x480 with 1 Axes>"
      ]
     },
     "metadata": {},
     "output_type": "display_data"
    }
   ],
   "source": [
    "message['label'].value_counts().plot(kind='bar')\n"
   ]
  },
  {
   "cell_type": "markdown",
   "metadata": {},
   "source": [
    "# Model Train"
   ]
  },
  {
   "cell_type": "markdown",
   "metadata": {},
   "source": [
    "X,y"
   ]
  },
  {
   "cell_type": "code",
   "execution_count": 12,
   "metadata": {
    "execution": {
     "iopub.execute_input": "2023-11-23T09:41:11.799132Z",
     "iopub.status.busy": "2023-11-23T09:41:11.798523Z",
     "iopub.status.idle": "2023-11-23T09:41:11.961693Z",
     "shell.execute_reply": "2023-11-23T09:41:11.960278Z",
     "shell.execute_reply.started": "2023-11-23T09:41:11.799104Z"
    },
    "id": "CfUMrl_jvNwK"
   },
   "outputs": [],
   "source": [
    "#train test split\n",
    "from sklearn.model_selection import train_test_split\n",
    "X_train,X_test,y_train,y_test=train_test_split(X,y,test_size=0.20,random_state=42)"
   ]
  },
  {
   "cell_type": "code",
   "execution_count": 13,
   "metadata": {
    "execution": {
     "iopub.execute_input": "2023-11-23T09:41:11.963995Z",
     "iopub.status.busy": "2023-11-23T09:41:11.9635Z",
     "iopub.status.idle": "2023-11-23T09:41:12.174463Z",
     "shell.execute_reply": "2023-11-23T09:41:12.172832Z",
     "shell.execute_reply.started": "2023-11-23T09:41:11.963953Z"
    },
    "id": "j70BR7GPvUhq"
   },
   "outputs": [],
   "source": [
    "from sklearn.tree import DecisionTreeClassifier\n",
    "from sklearn.ensemble import RandomForestClassifier\n",
    "from sklearn.naive_bayes import MultinomialNB"
   ]
  },
  {
   "cell_type": "code",
   "execution_count": 14,
   "metadata": {
    "execution": {
     "iopub.execute_input": "2023-11-23T09:41:12.177847Z",
     "iopub.status.busy": "2023-11-23T09:41:12.177189Z",
     "iopub.status.idle": "2023-11-23T09:41:22.104246Z",
     "shell.execute_reply": "2023-11-23T09:41:22.102759Z",
     "shell.execute_reply.started": "2023-11-23T09:41:12.1778Z"
    },
    "id": "1MIUUEn2vXDw"
   },
   "outputs": [],
   "source": [
    "model=RandomForestClassifier()\n",
    "model.fit(X_train,y_train)\n",
    "pred=model.predict(X_test)"
   ]
  },
  {
   "cell_type": "code",
   "execution_count": 15,
   "metadata": {
    "execution": {
     "iopub.execute_input": "2023-11-23T09:41:22.106155Z",
     "iopub.status.busy": "2023-11-23T09:41:22.105907Z",
     "iopub.status.idle": "2023-11-23T09:41:22.110262Z",
     "shell.execute_reply": "2023-11-23T09:41:22.109371Z",
     "shell.execute_reply.started": "2023-11-23T09:41:22.106133Z"
    },
    "id": "mdsRj3Fivb4p"
   },
   "outputs": [],
   "source": [
    "from sklearn.metrics import confusion_matrix\n",
    "from sklearn.metrics import accuracy_score"
   ]
  },
  {
   "cell_type": "code",
   "execution_count": 16,
   "metadata": {
    "execution": {
     "iopub.execute_input": "2023-11-23T09:41:22.111475Z",
     "iopub.status.busy": "2023-11-23T09:41:22.111251Z",
     "iopub.status.idle": "2023-11-23T09:41:22.128665Z",
     "shell.execute_reply": "2023-11-23T09:41:22.12703Z",
     "shell.execute_reply.started": "2023-11-23T09:41:22.111453Z"
    },
    "id": "rd2aAFf1veBI",
    "outputId": "76955726-758e-44ec-c630-45ccd66e81a7"
   },
   "outputs": [
    {
     "name": "stdout",
     "output_type": "stream",
     "text": [
      "[[965   0]\n",
      " [ 22 128]]\n"
     ]
    }
   ],
   "source": [
    "print(confusion_matrix(y_test,pred))\n"
   ]
  },
  {
   "cell_type": "code",
   "execution_count": 17,
   "metadata": {
    "execution": {
     "iopub.execute_input": "2023-11-23T09:41:22.131039Z",
     "iopub.status.busy": "2023-11-23T09:41:22.130596Z",
     "iopub.status.idle": "2023-11-23T09:41:22.141682Z",
     "shell.execute_reply": "2023-11-23T09:41:22.14061Z",
     "shell.execute_reply.started": "2023-11-23T09:41:22.131001Z"
    },
    "id": "yJ1p8gi3vhGe",
    "outputId": "12b521bc-8739-4de3-eb6e-b294368c8578"
   },
   "outputs": [
    {
     "name": "stdout",
     "output_type": "stream",
     "text": [
      "0.9802690582959641\n"
     ]
    }
   ],
   "source": [
    "print(accuracy_score(y_test,pred))"
   ]
  },
  {
   "cell_type": "code",
   "execution_count": 18,
   "metadata": {
    "execution": {
     "iopub.execute_input": "2023-11-23T09:41:22.143734Z",
     "iopub.status.busy": "2023-11-23T09:41:22.14333Z",
     "iopub.status.idle": "2023-11-23T09:41:27.19634Z",
     "shell.execute_reply": "2023-11-23T09:41:27.195406Z",
     "shell.execute_reply.started": "2023-11-23T09:41:22.143705Z"
    },
    "id": "x6XRZp3zvk_f"
   },
   "outputs": [],
   "source": [
    "model_2=DecisionTreeClassifier()\n",
    "model_2.fit(X_train,y_train)\n",
    "pred2=model_2.predict(X_test)"
   ]
  },
  {
   "cell_type": "code",
   "execution_count": 19,
   "metadata": {
    "execution": {
     "iopub.execute_input": "2023-11-23T09:41:27.198136Z",
     "iopub.status.busy": "2023-11-23T09:41:27.197819Z",
     "iopub.status.idle": "2023-11-23T09:41:27.209722Z",
     "shell.execute_reply": "2023-11-23T09:41:27.208112Z",
     "shell.execute_reply.started": "2023-11-23T09:41:27.198107Z"
    },
    "id": "3F64IIqYvobw",
    "outputId": "068b8b32-1589-4b2a-bdef-be8c63dfacbc"
   },
   "outputs": [
    {
     "name": "stdout",
     "output_type": "stream",
     "text": [
      "[[957   8]\n",
      " [ 21 129]]\n",
      "0.9739910313901345\n"
     ]
    },
    {
     "data": {
      "text/plain": [
       "(None, None)"
      ]
     },
     "execution_count": 19,
     "metadata": {},
     "output_type": "execute_result"
    }
   ],
   "source": [
    "print(confusion_matrix(y_test,pred2)),print(accuracy_score(y_test,pred2))"
   ]
  },
  {
   "cell_type": "code",
   "execution_count": 20,
   "metadata": {
    "execution": {
     "iopub.execute_input": "2023-11-23T09:41:27.213496Z",
     "iopub.status.busy": "2023-11-23T09:41:27.212245Z",
     "iopub.status.idle": "2023-11-23T09:41:27.397067Z",
     "shell.execute_reply": "2023-11-23T09:41:27.39623Z",
     "shell.execute_reply.started": "2023-11-23T09:41:27.213421Z"
    },
    "id": "En9eIVUVvrav"
   },
   "outputs": [],
   "source": [
    "model_3=MultinomialNB()\n",
    "model_3.fit(X_train,y_train)\n",
    "pred3=model_3.predict(X_test)"
   ]
  },
  {
   "cell_type": "code",
   "execution_count": 21,
   "metadata": {
    "execution": {
     "iopub.execute_input": "2023-11-23T09:41:27.403893Z",
     "iopub.status.busy": "2023-11-23T09:41:27.401705Z",
     "iopub.status.idle": "2023-11-23T09:41:27.417089Z",
     "shell.execute_reply": "2023-11-23T09:41:27.416169Z",
     "shell.execute_reply.started": "2023-11-23T09:41:27.403862Z"
    },
    "id": "I02YvGj8vupS",
    "outputId": "c9540db4-7f00-4ea9-a43e-61b6a215b190"
   },
   "outputs": [
    {
     "name": "stdout",
     "output_type": "stream",
     "text": [
      "[[955  10]\n",
      " [ 10 140]]\n",
      "0.9820627802690582\n"
     ]
    },
    {
     "data": {
      "text/plain": [
       "(None, None)"
      ]
     },
     "execution_count": 21,
     "metadata": {},
     "output_type": "execute_result"
    }
   ],
   "source": [
    "print(confusion_matrix(y_test,pred3)),print(accuracy_score(y_test,pred3))"
   ]
  },
  {
   "cell_type": "code",
   "execution_count": null,
   "metadata": {},
   "outputs": [],
   "source": []
  }
 ],
 "metadata": {
  "accelerator": "GPU",
  "colab": {
   "provenance": []
  },
  "gpuClass": "standard",
  "kaggle": {
   "accelerator": "none",
   "dataSources": [
    {
     "datasetId": 483,
     "sourceId": 982,
     "sourceType": "datasetVersion"
    }
   ],
   "dockerImageVersionId": 30587,
   "isGpuEnabled": false,
   "isInternetEnabled": true,
   "language": "python",
   "sourceType": "notebook"
  },
  "kernelspec": {
   "display_name": "Python 3 (ipykernel)",
   "language": "python",
   "name": "python3"
  },
  "language_info": {
   "codemirror_mode": {
    "name": "ipython",
    "version": 3
   },
   "file_extension": ".py",
   "mimetype": "text/x-python",
   "name": "python",
   "nbconvert_exporter": "python",
   "pygments_lexer": "ipython3",
   "version": "3.11.4"
  }
 },
 "nbformat": 4,
 "nbformat_minor": 4
}
